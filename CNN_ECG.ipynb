{
  "nbformat": 4,
  "nbformat_minor": 0,
  "metadata": {
    "colab": {
      "name": "CNN_ECG.ipynb",
      "provenance": [],
      "mount_file_id": "1jk06jaGtPp7OEWh3iW9hSEPXsjM9HDVe",
      "authorship_tag": "ABX9TyMbOboOioCpelGJiLt3fqZR",
      "include_colab_link": true
    },
    "kernelspec": {
      "name": "python3",
      "display_name": "Python 3"
    },
    "language_info": {
      "name": "python"
    }
  },
  "cells": [
    {
      "cell_type": "markdown",
      "metadata": {
        "id": "view-in-github",
        "colab_type": "text"
      },
      "source": [
        "<a href=\"https://colab.research.google.com/github/labewoor/Coding-Activities/blob/master/CNN_ECG.ipynb\" target=\"_parent\"><img src=\"https://colab.research.google.com/assets/colab-badge.svg\" alt=\"Open In Colab\"/></a>"
      ]
    },
    {
      "cell_type": "markdown",
      "metadata": {
        "id": "D0-WUPhHMRjT"
      },
      "source": [
        "**An Electro Cardio Gram (ECG) is simple test that can be used to check your heart rhythm and electrical activity.\n",
        "Classes = [N:0, S:1, V:2, F:3, Q:4] N: Non-ectopic beats (Normal Beats), - S: Supraventricular ectopic beats , \n",
        "V - Ventricular ectopic beats, F - Fusion Beats , Q - Unknown Beats**"
      ]
    },
    {
      "cell_type": "code",
      "metadata": {
        "id": "bU7ySFgGGJlQ"
      },
      "source": [
        "import numpy as np\n",
        "import pandas as pd\n",
        "import matplotlib.pyplot as plt\n",
        "import seaborn as sns"
      ],
      "execution_count": 4,
      "outputs": []
    },
    {
      "cell_type": "code",
      "metadata": {
        "id": "zMVw6cT-InYw"
      },
      "source": [
        "#Header=Nne as img data and o have column \n",
        "train_data=pd.read_csv(\"/content/drive/MyDrive/Medical Data/ECG/mitbih_train.csv\",header=None)\n",
        "test_data=pd.read_csv(\"/content/drive/MyDrive/Medical Data/ECG/mitbih_test.csv\",header=None)"
      ],
      "execution_count": 6,
      "outputs": []
    },
    {
      "cell_type": "code",
      "metadata": {
        "id": "jyMvxx-fJUEL",
        "colab": {
          "base_uri": "https://localhost:8080/",
          "height": 435
        },
        "outputId": "30e2781b-1edf-403b-d45c-c0d231b3666a"
      },
      "source": [
        "train_data"
      ],
      "execution_count": null,
      "outputs": [
        {
          "output_type": "execute_result",
          "data": {
            "text/html": [
              "<div>\n",
              "<style scoped>\n",
              "    .dataframe tbody tr th:only-of-type {\n",
              "        vertical-align: middle;\n",
              "    }\n",
              "\n",
              "    .dataframe tbody tr th {\n",
              "        vertical-align: top;\n",
              "    }\n",
              "\n",
              "    .dataframe thead th {\n",
              "        text-align: right;\n",
              "    }\n",
              "</style>\n",
              "<table border=\"1\" class=\"dataframe\">\n",
              "  <thead>\n",
              "    <tr style=\"text-align: right;\">\n",
              "      <th></th>\n",
              "      <th>0</th>\n",
              "      <th>1</th>\n",
              "      <th>2</th>\n",
              "      <th>3</th>\n",
              "      <th>4</th>\n",
              "      <th>5</th>\n",
              "      <th>6</th>\n",
              "      <th>7</th>\n",
              "      <th>8</th>\n",
              "      <th>9</th>\n",
              "      <th>10</th>\n",
              "      <th>11</th>\n",
              "      <th>12</th>\n",
              "      <th>13</th>\n",
              "      <th>14</th>\n",
              "      <th>15</th>\n",
              "      <th>16</th>\n",
              "      <th>17</th>\n",
              "      <th>18</th>\n",
              "      <th>19</th>\n",
              "      <th>20</th>\n",
              "      <th>21</th>\n",
              "      <th>22</th>\n",
              "      <th>23</th>\n",
              "      <th>24</th>\n",
              "      <th>25</th>\n",
              "      <th>26</th>\n",
              "      <th>27</th>\n",
              "      <th>28</th>\n",
              "      <th>29</th>\n",
              "      <th>30</th>\n",
              "      <th>31</th>\n",
              "      <th>32</th>\n",
              "      <th>33</th>\n",
              "      <th>34</th>\n",
              "      <th>35</th>\n",
              "      <th>36</th>\n",
              "      <th>37</th>\n",
              "      <th>38</th>\n",
              "      <th>39</th>\n",
              "      <th>...</th>\n",
              "      <th>148</th>\n",
              "      <th>149</th>\n",
              "      <th>150</th>\n",
              "      <th>151</th>\n",
              "      <th>152</th>\n",
              "      <th>153</th>\n",
              "      <th>154</th>\n",
              "      <th>155</th>\n",
              "      <th>156</th>\n",
              "      <th>157</th>\n",
              "      <th>158</th>\n",
              "      <th>159</th>\n",
              "      <th>160</th>\n",
              "      <th>161</th>\n",
              "      <th>162</th>\n",
              "      <th>163</th>\n",
              "      <th>164</th>\n",
              "      <th>165</th>\n",
              "      <th>166</th>\n",
              "      <th>167</th>\n",
              "      <th>168</th>\n",
              "      <th>169</th>\n",
              "      <th>170</th>\n",
              "      <th>171</th>\n",
              "      <th>172</th>\n",
              "      <th>173</th>\n",
              "      <th>174</th>\n",
              "      <th>175</th>\n",
              "      <th>176</th>\n",
              "      <th>177</th>\n",
              "      <th>178</th>\n",
              "      <th>179</th>\n",
              "      <th>180</th>\n",
              "      <th>181</th>\n",
              "      <th>182</th>\n",
              "      <th>183</th>\n",
              "      <th>184</th>\n",
              "      <th>185</th>\n",
              "      <th>186</th>\n",
              "      <th>187</th>\n",
              "    </tr>\n",
              "  </thead>\n",
              "  <tbody>\n",
              "    <tr>\n",
              "      <th>0</th>\n",
              "      <td>0.977941</td>\n",
              "      <td>0.926471</td>\n",
              "      <td>0.681373</td>\n",
              "      <td>0.245098</td>\n",
              "      <td>0.154412</td>\n",
              "      <td>0.191176</td>\n",
              "      <td>0.151961</td>\n",
              "      <td>0.085784</td>\n",
              "      <td>0.058824</td>\n",
              "      <td>0.049020</td>\n",
              "      <td>0.044118</td>\n",
              "      <td>0.061275</td>\n",
              "      <td>0.066176</td>\n",
              "      <td>0.061275</td>\n",
              "      <td>0.049020</td>\n",
              "      <td>0.073529</td>\n",
              "      <td>0.061275</td>\n",
              "      <td>0.061275</td>\n",
              "      <td>0.066176</td>\n",
              "      <td>0.068627</td>\n",
              "      <td>0.095588</td>\n",
              "      <td>0.075980</td>\n",
              "      <td>0.093137</td>\n",
              "      <td>0.105392</td>\n",
              "      <td>0.115196</td>\n",
              "      <td>0.102941</td>\n",
              "      <td>0.117647</td>\n",
              "      <td>0.125000</td>\n",
              "      <td>0.142157</td>\n",
              "      <td>0.127451</td>\n",
              "      <td>0.151961</td>\n",
              "      <td>0.144608</td>\n",
              "      <td>0.164216</td>\n",
              "      <td>0.144608</td>\n",
              "      <td>0.159314</td>\n",
              "      <td>0.151961</td>\n",
              "      <td>0.154412</td>\n",
              "      <td>0.142157</td>\n",
              "      <td>0.151961</td>\n",
              "      <td>0.151961</td>\n",
              "      <td>...</td>\n",
              "      <td>0.0</td>\n",
              "      <td>0.0</td>\n",
              "      <td>0.0</td>\n",
              "      <td>0.0</td>\n",
              "      <td>0.0</td>\n",
              "      <td>0.0</td>\n",
              "      <td>0.0</td>\n",
              "      <td>0.0</td>\n",
              "      <td>0.0</td>\n",
              "      <td>0.0</td>\n",
              "      <td>0.0</td>\n",
              "      <td>0.0</td>\n",
              "      <td>0.0</td>\n",
              "      <td>0.0</td>\n",
              "      <td>0.0</td>\n",
              "      <td>0.0</td>\n",
              "      <td>0.0</td>\n",
              "      <td>0.0</td>\n",
              "      <td>0.0</td>\n",
              "      <td>0.0</td>\n",
              "      <td>0.0</td>\n",
              "      <td>0.0</td>\n",
              "      <td>0.0</td>\n",
              "      <td>0.0</td>\n",
              "      <td>0.0</td>\n",
              "      <td>0.0</td>\n",
              "      <td>0.0</td>\n",
              "      <td>0.0</td>\n",
              "      <td>0.0</td>\n",
              "      <td>0.0</td>\n",
              "      <td>0.0</td>\n",
              "      <td>0.0</td>\n",
              "      <td>0.0</td>\n",
              "      <td>0.0</td>\n",
              "      <td>0.0</td>\n",
              "      <td>0.0</td>\n",
              "      <td>0.0</td>\n",
              "      <td>0.0</td>\n",
              "      <td>0.0</td>\n",
              "      <td>0.0</td>\n",
              "    </tr>\n",
              "    <tr>\n",
              "      <th>1</th>\n",
              "      <td>0.960114</td>\n",
              "      <td>0.863248</td>\n",
              "      <td>0.461538</td>\n",
              "      <td>0.196581</td>\n",
              "      <td>0.094017</td>\n",
              "      <td>0.125356</td>\n",
              "      <td>0.099715</td>\n",
              "      <td>0.088319</td>\n",
              "      <td>0.074074</td>\n",
              "      <td>0.082621</td>\n",
              "      <td>0.074074</td>\n",
              "      <td>0.062678</td>\n",
              "      <td>0.065527</td>\n",
              "      <td>0.065527</td>\n",
              "      <td>0.062678</td>\n",
              "      <td>0.076923</td>\n",
              "      <td>0.071225</td>\n",
              "      <td>0.082621</td>\n",
              "      <td>0.091168</td>\n",
              "      <td>0.096866</td>\n",
              "      <td>0.082621</td>\n",
              "      <td>0.082621</td>\n",
              "      <td>0.091168</td>\n",
              "      <td>0.105413</td>\n",
              "      <td>0.122507</td>\n",
              "      <td>0.148148</td>\n",
              "      <td>0.182336</td>\n",
              "      <td>0.193732</td>\n",
              "      <td>0.213675</td>\n",
              "      <td>0.207977</td>\n",
              "      <td>0.222222</td>\n",
              "      <td>0.253561</td>\n",
              "      <td>0.270655</td>\n",
              "      <td>0.287749</td>\n",
              "      <td>0.284900</td>\n",
              "      <td>0.293447</td>\n",
              "      <td>0.256410</td>\n",
              "      <td>0.247863</td>\n",
              "      <td>0.188034</td>\n",
              "      <td>0.145299</td>\n",
              "      <td>...</td>\n",
              "      <td>0.0</td>\n",
              "      <td>0.0</td>\n",
              "      <td>0.0</td>\n",
              "      <td>0.0</td>\n",
              "      <td>0.0</td>\n",
              "      <td>0.0</td>\n",
              "      <td>0.0</td>\n",
              "      <td>0.0</td>\n",
              "      <td>0.0</td>\n",
              "      <td>0.0</td>\n",
              "      <td>0.0</td>\n",
              "      <td>0.0</td>\n",
              "      <td>0.0</td>\n",
              "      <td>0.0</td>\n",
              "      <td>0.0</td>\n",
              "      <td>0.0</td>\n",
              "      <td>0.0</td>\n",
              "      <td>0.0</td>\n",
              "      <td>0.0</td>\n",
              "      <td>0.0</td>\n",
              "      <td>0.0</td>\n",
              "      <td>0.0</td>\n",
              "      <td>0.0</td>\n",
              "      <td>0.0</td>\n",
              "      <td>0.0</td>\n",
              "      <td>0.0</td>\n",
              "      <td>0.0</td>\n",
              "      <td>0.0</td>\n",
              "      <td>0.0</td>\n",
              "      <td>0.0</td>\n",
              "      <td>0.0</td>\n",
              "      <td>0.0</td>\n",
              "      <td>0.0</td>\n",
              "      <td>0.0</td>\n",
              "      <td>0.0</td>\n",
              "      <td>0.0</td>\n",
              "      <td>0.0</td>\n",
              "      <td>0.0</td>\n",
              "      <td>0.0</td>\n",
              "      <td>0.0</td>\n",
              "    </tr>\n",
              "    <tr>\n",
              "      <th>2</th>\n",
              "      <td>1.000000</td>\n",
              "      <td>0.659459</td>\n",
              "      <td>0.186486</td>\n",
              "      <td>0.070270</td>\n",
              "      <td>0.070270</td>\n",
              "      <td>0.059459</td>\n",
              "      <td>0.056757</td>\n",
              "      <td>0.043243</td>\n",
              "      <td>0.054054</td>\n",
              "      <td>0.045946</td>\n",
              "      <td>0.056757</td>\n",
              "      <td>0.043243</td>\n",
              "      <td>0.067568</td>\n",
              "      <td>0.062162</td>\n",
              "      <td>0.078378</td>\n",
              "      <td>0.072973</td>\n",
              "      <td>0.086486</td>\n",
              "      <td>0.081081</td>\n",
              "      <td>0.108108</td>\n",
              "      <td>0.110811</td>\n",
              "      <td>0.135135</td>\n",
              "      <td>0.135135</td>\n",
              "      <td>0.170270</td>\n",
              "      <td>0.183784</td>\n",
              "      <td>0.216216</td>\n",
              "      <td>0.237838</td>\n",
              "      <td>0.270270</td>\n",
              "      <td>0.286486</td>\n",
              "      <td>0.316216</td>\n",
              "      <td>0.318919</td>\n",
              "      <td>0.332432</td>\n",
              "      <td>0.297297</td>\n",
              "      <td>0.267568</td>\n",
              "      <td>0.216216</td>\n",
              "      <td>0.189189</td>\n",
              "      <td>0.132432</td>\n",
              "      <td>0.118919</td>\n",
              "      <td>0.064865</td>\n",
              "      <td>0.064865</td>\n",
              "      <td>0.043243</td>\n",
              "      <td>...</td>\n",
              "      <td>0.0</td>\n",
              "      <td>0.0</td>\n",
              "      <td>0.0</td>\n",
              "      <td>0.0</td>\n",
              "      <td>0.0</td>\n",
              "      <td>0.0</td>\n",
              "      <td>0.0</td>\n",
              "      <td>0.0</td>\n",
              "      <td>0.0</td>\n",
              "      <td>0.0</td>\n",
              "      <td>0.0</td>\n",
              "      <td>0.0</td>\n",
              "      <td>0.0</td>\n",
              "      <td>0.0</td>\n",
              "      <td>0.0</td>\n",
              "      <td>0.0</td>\n",
              "      <td>0.0</td>\n",
              "      <td>0.0</td>\n",
              "      <td>0.0</td>\n",
              "      <td>0.0</td>\n",
              "      <td>0.0</td>\n",
              "      <td>0.0</td>\n",
              "      <td>0.0</td>\n",
              "      <td>0.0</td>\n",
              "      <td>0.0</td>\n",
              "      <td>0.0</td>\n",
              "      <td>0.0</td>\n",
              "      <td>0.0</td>\n",
              "      <td>0.0</td>\n",
              "      <td>0.0</td>\n",
              "      <td>0.0</td>\n",
              "      <td>0.0</td>\n",
              "      <td>0.0</td>\n",
              "      <td>0.0</td>\n",
              "      <td>0.0</td>\n",
              "      <td>0.0</td>\n",
              "      <td>0.0</td>\n",
              "      <td>0.0</td>\n",
              "      <td>0.0</td>\n",
              "      <td>0.0</td>\n",
              "    </tr>\n",
              "    <tr>\n",
              "      <th>3</th>\n",
              "      <td>0.925414</td>\n",
              "      <td>0.665746</td>\n",
              "      <td>0.541436</td>\n",
              "      <td>0.276243</td>\n",
              "      <td>0.196133</td>\n",
              "      <td>0.077348</td>\n",
              "      <td>0.071823</td>\n",
              "      <td>0.060773</td>\n",
              "      <td>0.066298</td>\n",
              "      <td>0.058011</td>\n",
              "      <td>0.063536</td>\n",
              "      <td>0.082873</td>\n",
              "      <td>0.085635</td>\n",
              "      <td>0.093923</td>\n",
              "      <td>0.113260</td>\n",
              "      <td>0.124309</td>\n",
              "      <td>0.140884</td>\n",
              "      <td>0.132597</td>\n",
              "      <td>0.140884</td>\n",
              "      <td>0.091160</td>\n",
              "      <td>0.085635</td>\n",
              "      <td>0.074586</td>\n",
              "      <td>0.071823</td>\n",
              "      <td>0.080110</td>\n",
              "      <td>0.096685</td>\n",
              "      <td>0.118785</td>\n",
              "      <td>0.138122</td>\n",
              "      <td>0.140884</td>\n",
              "      <td>0.138122</td>\n",
              "      <td>0.146409</td>\n",
              "      <td>0.110497</td>\n",
              "      <td>0.102210</td>\n",
              "      <td>0.060773</td>\n",
              "      <td>0.027624</td>\n",
              "      <td>0.038674</td>\n",
              "      <td>0.013812</td>\n",
              "      <td>0.011050</td>\n",
              "      <td>0.013812</td>\n",
              "      <td>0.033149</td>\n",
              "      <td>0.005525</td>\n",
              "      <td>...</td>\n",
              "      <td>0.0</td>\n",
              "      <td>0.0</td>\n",
              "      <td>0.0</td>\n",
              "      <td>0.0</td>\n",
              "      <td>0.0</td>\n",
              "      <td>0.0</td>\n",
              "      <td>0.0</td>\n",
              "      <td>0.0</td>\n",
              "      <td>0.0</td>\n",
              "      <td>0.0</td>\n",
              "      <td>0.0</td>\n",
              "      <td>0.0</td>\n",
              "      <td>0.0</td>\n",
              "      <td>0.0</td>\n",
              "      <td>0.0</td>\n",
              "      <td>0.0</td>\n",
              "      <td>0.0</td>\n",
              "      <td>0.0</td>\n",
              "      <td>0.0</td>\n",
              "      <td>0.0</td>\n",
              "      <td>0.0</td>\n",
              "      <td>0.0</td>\n",
              "      <td>0.0</td>\n",
              "      <td>0.0</td>\n",
              "      <td>0.0</td>\n",
              "      <td>0.0</td>\n",
              "      <td>0.0</td>\n",
              "      <td>0.0</td>\n",
              "      <td>0.0</td>\n",
              "      <td>0.0</td>\n",
              "      <td>0.0</td>\n",
              "      <td>0.0</td>\n",
              "      <td>0.0</td>\n",
              "      <td>0.0</td>\n",
              "      <td>0.0</td>\n",
              "      <td>0.0</td>\n",
              "      <td>0.0</td>\n",
              "      <td>0.0</td>\n",
              "      <td>0.0</td>\n",
              "      <td>0.0</td>\n",
              "    </tr>\n",
              "    <tr>\n",
              "      <th>4</th>\n",
              "      <td>0.967136</td>\n",
              "      <td>1.000000</td>\n",
              "      <td>0.830986</td>\n",
              "      <td>0.586854</td>\n",
              "      <td>0.356808</td>\n",
              "      <td>0.248826</td>\n",
              "      <td>0.145540</td>\n",
              "      <td>0.089202</td>\n",
              "      <td>0.117371</td>\n",
              "      <td>0.150235</td>\n",
              "      <td>0.131455</td>\n",
              "      <td>0.122066</td>\n",
              "      <td>0.140845</td>\n",
              "      <td>0.159624</td>\n",
              "      <td>0.150235</td>\n",
              "      <td>0.145540</td>\n",
              "      <td>0.136150</td>\n",
              "      <td>0.169014</td>\n",
              "      <td>0.178404</td>\n",
              "      <td>0.173709</td>\n",
              "      <td>0.183099</td>\n",
              "      <td>0.201878</td>\n",
              "      <td>0.187793</td>\n",
              "      <td>0.164319</td>\n",
              "      <td>0.187793</td>\n",
              "      <td>0.215962</td>\n",
              "      <td>0.215962</td>\n",
              "      <td>0.201878</td>\n",
              "      <td>0.211268</td>\n",
              "      <td>0.230047</td>\n",
              "      <td>0.215962</td>\n",
              "      <td>0.230047</td>\n",
              "      <td>0.239437</td>\n",
              "      <td>0.267606</td>\n",
              "      <td>0.253521</td>\n",
              "      <td>0.230047</td>\n",
              "      <td>0.220657</td>\n",
              "      <td>0.225352</td>\n",
              "      <td>0.211268</td>\n",
              "      <td>0.173709</td>\n",
              "      <td>...</td>\n",
              "      <td>0.0</td>\n",
              "      <td>0.0</td>\n",
              "      <td>0.0</td>\n",
              "      <td>0.0</td>\n",
              "      <td>0.0</td>\n",
              "      <td>0.0</td>\n",
              "      <td>0.0</td>\n",
              "      <td>0.0</td>\n",
              "      <td>0.0</td>\n",
              "      <td>0.0</td>\n",
              "      <td>0.0</td>\n",
              "      <td>0.0</td>\n",
              "      <td>0.0</td>\n",
              "      <td>0.0</td>\n",
              "      <td>0.0</td>\n",
              "      <td>0.0</td>\n",
              "      <td>0.0</td>\n",
              "      <td>0.0</td>\n",
              "      <td>0.0</td>\n",
              "      <td>0.0</td>\n",
              "      <td>0.0</td>\n",
              "      <td>0.0</td>\n",
              "      <td>0.0</td>\n",
              "      <td>0.0</td>\n",
              "      <td>0.0</td>\n",
              "      <td>0.0</td>\n",
              "      <td>0.0</td>\n",
              "      <td>0.0</td>\n",
              "      <td>0.0</td>\n",
              "      <td>0.0</td>\n",
              "      <td>0.0</td>\n",
              "      <td>0.0</td>\n",
              "      <td>0.0</td>\n",
              "      <td>0.0</td>\n",
              "      <td>0.0</td>\n",
              "      <td>0.0</td>\n",
              "      <td>0.0</td>\n",
              "      <td>0.0</td>\n",
              "      <td>0.0</td>\n",
              "      <td>0.0</td>\n",
              "    </tr>\n",
              "    <tr>\n",
              "      <th>...</th>\n",
              "      <td>...</td>\n",
              "      <td>...</td>\n",
              "      <td>...</td>\n",
              "      <td>...</td>\n",
              "      <td>...</td>\n",
              "      <td>...</td>\n",
              "      <td>...</td>\n",
              "      <td>...</td>\n",
              "      <td>...</td>\n",
              "      <td>...</td>\n",
              "      <td>...</td>\n",
              "      <td>...</td>\n",
              "      <td>...</td>\n",
              "      <td>...</td>\n",
              "      <td>...</td>\n",
              "      <td>...</td>\n",
              "      <td>...</td>\n",
              "      <td>...</td>\n",
              "      <td>...</td>\n",
              "      <td>...</td>\n",
              "      <td>...</td>\n",
              "      <td>...</td>\n",
              "      <td>...</td>\n",
              "      <td>...</td>\n",
              "      <td>...</td>\n",
              "      <td>...</td>\n",
              "      <td>...</td>\n",
              "      <td>...</td>\n",
              "      <td>...</td>\n",
              "      <td>...</td>\n",
              "      <td>...</td>\n",
              "      <td>...</td>\n",
              "      <td>...</td>\n",
              "      <td>...</td>\n",
              "      <td>...</td>\n",
              "      <td>...</td>\n",
              "      <td>...</td>\n",
              "      <td>...</td>\n",
              "      <td>...</td>\n",
              "      <td>...</td>\n",
              "      <td>...</td>\n",
              "      <td>...</td>\n",
              "      <td>...</td>\n",
              "      <td>...</td>\n",
              "      <td>...</td>\n",
              "      <td>...</td>\n",
              "      <td>...</td>\n",
              "      <td>...</td>\n",
              "      <td>...</td>\n",
              "      <td>...</td>\n",
              "      <td>...</td>\n",
              "      <td>...</td>\n",
              "      <td>...</td>\n",
              "      <td>...</td>\n",
              "      <td>...</td>\n",
              "      <td>...</td>\n",
              "      <td>...</td>\n",
              "      <td>...</td>\n",
              "      <td>...</td>\n",
              "      <td>...</td>\n",
              "      <td>...</td>\n",
              "      <td>...</td>\n",
              "      <td>...</td>\n",
              "      <td>...</td>\n",
              "      <td>...</td>\n",
              "      <td>...</td>\n",
              "      <td>...</td>\n",
              "      <td>...</td>\n",
              "      <td>...</td>\n",
              "      <td>...</td>\n",
              "      <td>...</td>\n",
              "      <td>...</td>\n",
              "      <td>...</td>\n",
              "      <td>...</td>\n",
              "      <td>...</td>\n",
              "      <td>...</td>\n",
              "      <td>...</td>\n",
              "      <td>...</td>\n",
              "      <td>...</td>\n",
              "      <td>...</td>\n",
              "      <td>...</td>\n",
              "    </tr>\n",
              "    <tr>\n",
              "      <th>87549</th>\n",
              "      <td>0.807018</td>\n",
              "      <td>0.494737</td>\n",
              "      <td>0.536842</td>\n",
              "      <td>0.529825</td>\n",
              "      <td>0.491228</td>\n",
              "      <td>0.484211</td>\n",
              "      <td>0.456140</td>\n",
              "      <td>0.396491</td>\n",
              "      <td>0.284211</td>\n",
              "      <td>0.136842</td>\n",
              "      <td>0.052632</td>\n",
              "      <td>0.140351</td>\n",
              "      <td>0.119298</td>\n",
              "      <td>0.091228</td>\n",
              "      <td>0.140351</td>\n",
              "      <td>0.161404</td>\n",
              "      <td>0.105263</td>\n",
              "      <td>0.143860</td>\n",
              "      <td>0.143860</td>\n",
              "      <td>0.129825</td>\n",
              "      <td>0.147368</td>\n",
              "      <td>0.157895</td>\n",
              "      <td>0.164912</td>\n",
              "      <td>0.168421</td>\n",
              "      <td>0.154386</td>\n",
              "      <td>0.175439</td>\n",
              "      <td>0.164912</td>\n",
              "      <td>0.154386</td>\n",
              "      <td>0.182456</td>\n",
              "      <td>0.192982</td>\n",
              "      <td>0.196491</td>\n",
              "      <td>0.207018</td>\n",
              "      <td>0.217544</td>\n",
              "      <td>0.217544</td>\n",
              "      <td>0.256140</td>\n",
              "      <td>0.284211</td>\n",
              "      <td>0.294737</td>\n",
              "      <td>0.301754</td>\n",
              "      <td>0.301754</td>\n",
              "      <td>0.322807</td>\n",
              "      <td>...</td>\n",
              "      <td>0.0</td>\n",
              "      <td>0.0</td>\n",
              "      <td>0.0</td>\n",
              "      <td>0.0</td>\n",
              "      <td>0.0</td>\n",
              "      <td>0.0</td>\n",
              "      <td>0.0</td>\n",
              "      <td>0.0</td>\n",
              "      <td>0.0</td>\n",
              "      <td>0.0</td>\n",
              "      <td>0.0</td>\n",
              "      <td>0.0</td>\n",
              "      <td>0.0</td>\n",
              "      <td>0.0</td>\n",
              "      <td>0.0</td>\n",
              "      <td>0.0</td>\n",
              "      <td>0.0</td>\n",
              "      <td>0.0</td>\n",
              "      <td>0.0</td>\n",
              "      <td>0.0</td>\n",
              "      <td>0.0</td>\n",
              "      <td>0.0</td>\n",
              "      <td>0.0</td>\n",
              "      <td>0.0</td>\n",
              "      <td>0.0</td>\n",
              "      <td>0.0</td>\n",
              "      <td>0.0</td>\n",
              "      <td>0.0</td>\n",
              "      <td>0.0</td>\n",
              "      <td>0.0</td>\n",
              "      <td>0.0</td>\n",
              "      <td>0.0</td>\n",
              "      <td>0.0</td>\n",
              "      <td>0.0</td>\n",
              "      <td>0.0</td>\n",
              "      <td>0.0</td>\n",
              "      <td>0.0</td>\n",
              "      <td>0.0</td>\n",
              "      <td>0.0</td>\n",
              "      <td>4.0</td>\n",
              "    </tr>\n",
              "    <tr>\n",
              "      <th>87550</th>\n",
              "      <td>0.718333</td>\n",
              "      <td>0.605000</td>\n",
              "      <td>0.486667</td>\n",
              "      <td>0.361667</td>\n",
              "      <td>0.231667</td>\n",
              "      <td>0.120000</td>\n",
              "      <td>0.051667</td>\n",
              "      <td>0.001667</td>\n",
              "      <td>0.000000</td>\n",
              "      <td>0.013333</td>\n",
              "      <td>0.078333</td>\n",
              "      <td>0.183333</td>\n",
              "      <td>0.275000</td>\n",
              "      <td>0.315000</td>\n",
              "      <td>0.361667</td>\n",
              "      <td>0.430000</td>\n",
              "      <td>0.481667</td>\n",
              "      <td>0.526667</td>\n",
              "      <td>0.543333</td>\n",
              "      <td>0.563333</td>\n",
              "      <td>0.581667</td>\n",
              "      <td>0.588333</td>\n",
              "      <td>0.600000</td>\n",
              "      <td>0.603333</td>\n",
              "      <td>0.613333</td>\n",
              "      <td>0.621667</td>\n",
              "      <td>0.636667</td>\n",
              "      <td>0.651667</td>\n",
              "      <td>0.665000</td>\n",
              "      <td>0.681667</td>\n",
              "      <td>0.700000</td>\n",
              "      <td>0.711667</td>\n",
              "      <td>0.735000</td>\n",
              "      <td>0.763333</td>\n",
              "      <td>0.785000</td>\n",
              "      <td>0.810000</td>\n",
              "      <td>0.835000</td>\n",
              "      <td>0.856667</td>\n",
              "      <td>0.876667</td>\n",
              "      <td>0.880000</td>\n",
              "      <td>...</td>\n",
              "      <td>0.0</td>\n",
              "      <td>0.0</td>\n",
              "      <td>0.0</td>\n",
              "      <td>0.0</td>\n",
              "      <td>0.0</td>\n",
              "      <td>0.0</td>\n",
              "      <td>0.0</td>\n",
              "      <td>0.0</td>\n",
              "      <td>0.0</td>\n",
              "      <td>0.0</td>\n",
              "      <td>0.0</td>\n",
              "      <td>0.0</td>\n",
              "      <td>0.0</td>\n",
              "      <td>0.0</td>\n",
              "      <td>0.0</td>\n",
              "      <td>0.0</td>\n",
              "      <td>0.0</td>\n",
              "      <td>0.0</td>\n",
              "      <td>0.0</td>\n",
              "      <td>0.0</td>\n",
              "      <td>0.0</td>\n",
              "      <td>0.0</td>\n",
              "      <td>0.0</td>\n",
              "      <td>0.0</td>\n",
              "      <td>0.0</td>\n",
              "      <td>0.0</td>\n",
              "      <td>0.0</td>\n",
              "      <td>0.0</td>\n",
              "      <td>0.0</td>\n",
              "      <td>0.0</td>\n",
              "      <td>0.0</td>\n",
              "      <td>0.0</td>\n",
              "      <td>0.0</td>\n",
              "      <td>0.0</td>\n",
              "      <td>0.0</td>\n",
              "      <td>0.0</td>\n",
              "      <td>0.0</td>\n",
              "      <td>0.0</td>\n",
              "      <td>0.0</td>\n",
              "      <td>4.0</td>\n",
              "    </tr>\n",
              "    <tr>\n",
              "      <th>87551</th>\n",
              "      <td>0.906122</td>\n",
              "      <td>0.624490</td>\n",
              "      <td>0.595918</td>\n",
              "      <td>0.575510</td>\n",
              "      <td>0.530612</td>\n",
              "      <td>0.481633</td>\n",
              "      <td>0.444898</td>\n",
              "      <td>0.387755</td>\n",
              "      <td>0.322449</td>\n",
              "      <td>0.191837</td>\n",
              "      <td>0.097959</td>\n",
              "      <td>0.048980</td>\n",
              "      <td>0.036735</td>\n",
              "      <td>0.053061</td>\n",
              "      <td>0.053061</td>\n",
              "      <td>0.097959</td>\n",
              "      <td>0.183673</td>\n",
              "      <td>0.269388</td>\n",
              "      <td>0.351020</td>\n",
              "      <td>0.408163</td>\n",
              "      <td>0.436735</td>\n",
              "      <td>0.469388</td>\n",
              "      <td>0.481633</td>\n",
              "      <td>0.518367</td>\n",
              "      <td>0.530612</td>\n",
              "      <td>0.534694</td>\n",
              "      <td>0.555102</td>\n",
              "      <td>0.591837</td>\n",
              "      <td>0.628571</td>\n",
              "      <td>0.632653</td>\n",
              "      <td>0.624490</td>\n",
              "      <td>0.616327</td>\n",
              "      <td>0.616327</td>\n",
              "      <td>0.608163</td>\n",
              "      <td>0.608163</td>\n",
              "      <td>0.620408</td>\n",
              "      <td>0.628571</td>\n",
              "      <td>0.624490</td>\n",
              "      <td>0.632653</td>\n",
              "      <td>0.644898</td>\n",
              "      <td>...</td>\n",
              "      <td>0.0</td>\n",
              "      <td>0.0</td>\n",
              "      <td>0.0</td>\n",
              "      <td>0.0</td>\n",
              "      <td>0.0</td>\n",
              "      <td>0.0</td>\n",
              "      <td>0.0</td>\n",
              "      <td>0.0</td>\n",
              "      <td>0.0</td>\n",
              "      <td>0.0</td>\n",
              "      <td>0.0</td>\n",
              "      <td>0.0</td>\n",
              "      <td>0.0</td>\n",
              "      <td>0.0</td>\n",
              "      <td>0.0</td>\n",
              "      <td>0.0</td>\n",
              "      <td>0.0</td>\n",
              "      <td>0.0</td>\n",
              "      <td>0.0</td>\n",
              "      <td>0.0</td>\n",
              "      <td>0.0</td>\n",
              "      <td>0.0</td>\n",
              "      <td>0.0</td>\n",
              "      <td>0.0</td>\n",
              "      <td>0.0</td>\n",
              "      <td>0.0</td>\n",
              "      <td>0.0</td>\n",
              "      <td>0.0</td>\n",
              "      <td>0.0</td>\n",
              "      <td>0.0</td>\n",
              "      <td>0.0</td>\n",
              "      <td>0.0</td>\n",
              "      <td>0.0</td>\n",
              "      <td>0.0</td>\n",
              "      <td>0.0</td>\n",
              "      <td>0.0</td>\n",
              "      <td>0.0</td>\n",
              "      <td>0.0</td>\n",
              "      <td>0.0</td>\n",
              "      <td>4.0</td>\n",
              "    </tr>\n",
              "    <tr>\n",
              "      <th>87552</th>\n",
              "      <td>0.858228</td>\n",
              "      <td>0.645570</td>\n",
              "      <td>0.845570</td>\n",
              "      <td>0.248101</td>\n",
              "      <td>0.167089</td>\n",
              "      <td>0.131646</td>\n",
              "      <td>0.121519</td>\n",
              "      <td>0.121519</td>\n",
              "      <td>0.118987</td>\n",
              "      <td>0.103797</td>\n",
              "      <td>0.101266</td>\n",
              "      <td>0.101266</td>\n",
              "      <td>0.088608</td>\n",
              "      <td>0.081013</td>\n",
              "      <td>0.073418</td>\n",
              "      <td>0.065823</td>\n",
              "      <td>0.065823</td>\n",
              "      <td>0.053165</td>\n",
              "      <td>0.048101</td>\n",
              "      <td>0.037975</td>\n",
              "      <td>0.035443</td>\n",
              "      <td>0.025316</td>\n",
              "      <td>0.020253</td>\n",
              "      <td>0.020253</td>\n",
              "      <td>0.017722</td>\n",
              "      <td>0.002532</td>\n",
              "      <td>0.005063</td>\n",
              "      <td>0.007595</td>\n",
              "      <td>0.000000</td>\n",
              "      <td>0.010127</td>\n",
              "      <td>0.010127</td>\n",
              "      <td>0.015190</td>\n",
              "      <td>0.035443</td>\n",
              "      <td>0.040506</td>\n",
              "      <td>0.050633</td>\n",
              "      <td>0.058228</td>\n",
              "      <td>0.070886</td>\n",
              "      <td>0.086076</td>\n",
              "      <td>0.098734</td>\n",
              "      <td>0.106329</td>\n",
              "      <td>...</td>\n",
              "      <td>0.0</td>\n",
              "      <td>0.0</td>\n",
              "      <td>0.0</td>\n",
              "      <td>0.0</td>\n",
              "      <td>0.0</td>\n",
              "      <td>0.0</td>\n",
              "      <td>0.0</td>\n",
              "      <td>0.0</td>\n",
              "      <td>0.0</td>\n",
              "      <td>0.0</td>\n",
              "      <td>0.0</td>\n",
              "      <td>0.0</td>\n",
              "      <td>0.0</td>\n",
              "      <td>0.0</td>\n",
              "      <td>0.0</td>\n",
              "      <td>0.0</td>\n",
              "      <td>0.0</td>\n",
              "      <td>0.0</td>\n",
              "      <td>0.0</td>\n",
              "      <td>0.0</td>\n",
              "      <td>0.0</td>\n",
              "      <td>0.0</td>\n",
              "      <td>0.0</td>\n",
              "      <td>0.0</td>\n",
              "      <td>0.0</td>\n",
              "      <td>0.0</td>\n",
              "      <td>0.0</td>\n",
              "      <td>0.0</td>\n",
              "      <td>0.0</td>\n",
              "      <td>0.0</td>\n",
              "      <td>0.0</td>\n",
              "      <td>0.0</td>\n",
              "      <td>0.0</td>\n",
              "      <td>0.0</td>\n",
              "      <td>0.0</td>\n",
              "      <td>0.0</td>\n",
              "      <td>0.0</td>\n",
              "      <td>0.0</td>\n",
              "      <td>0.0</td>\n",
              "      <td>4.0</td>\n",
              "    </tr>\n",
              "    <tr>\n",
              "      <th>87553</th>\n",
              "      <td>0.901506</td>\n",
              "      <td>0.845886</td>\n",
              "      <td>0.800695</td>\n",
              "      <td>0.748552</td>\n",
              "      <td>0.687138</td>\n",
              "      <td>0.599073</td>\n",
              "      <td>0.512167</td>\n",
              "      <td>0.427578</td>\n",
              "      <td>0.395133</td>\n",
              "      <td>0.402086</td>\n",
              "      <td>0.370800</td>\n",
              "      <td>0.287370</td>\n",
              "      <td>0.236385</td>\n",
              "      <td>0.324450</td>\n",
              "      <td>0.403244</td>\n",
              "      <td>0.409038</td>\n",
              "      <td>0.407880</td>\n",
              "      <td>0.390498</td>\n",
              "      <td>0.390498</td>\n",
              "      <td>0.419467</td>\n",
              "      <td>0.443801</td>\n",
              "      <td>0.487833</td>\n",
              "      <td>0.544612</td>\n",
              "      <td>0.574739</td>\n",
              "      <td>0.582851</td>\n",
              "      <td>0.592121</td>\n",
              "      <td>0.601390</td>\n",
              "      <td>0.611819</td>\n",
              "      <td>0.624565</td>\n",
              "      <td>0.634994</td>\n",
              "      <td>0.650058</td>\n",
              "      <td>0.661645</td>\n",
              "      <td>0.677868</td>\n",
              "      <td>0.691773</td>\n",
              "      <td>0.712630</td>\n",
              "      <td>0.726535</td>\n",
              "      <td>0.741599</td>\n",
              "      <td>0.749710</td>\n",
              "      <td>0.761298</td>\n",
              "      <td>0.763615</td>\n",
              "      <td>...</td>\n",
              "      <td>0.0</td>\n",
              "      <td>0.0</td>\n",
              "      <td>0.0</td>\n",
              "      <td>0.0</td>\n",
              "      <td>0.0</td>\n",
              "      <td>0.0</td>\n",
              "      <td>0.0</td>\n",
              "      <td>0.0</td>\n",
              "      <td>0.0</td>\n",
              "      <td>0.0</td>\n",
              "      <td>0.0</td>\n",
              "      <td>0.0</td>\n",
              "      <td>0.0</td>\n",
              "      <td>0.0</td>\n",
              "      <td>0.0</td>\n",
              "      <td>0.0</td>\n",
              "      <td>0.0</td>\n",
              "      <td>0.0</td>\n",
              "      <td>0.0</td>\n",
              "      <td>0.0</td>\n",
              "      <td>0.0</td>\n",
              "      <td>0.0</td>\n",
              "      <td>0.0</td>\n",
              "      <td>0.0</td>\n",
              "      <td>0.0</td>\n",
              "      <td>0.0</td>\n",
              "      <td>0.0</td>\n",
              "      <td>0.0</td>\n",
              "      <td>0.0</td>\n",
              "      <td>0.0</td>\n",
              "      <td>0.0</td>\n",
              "      <td>0.0</td>\n",
              "      <td>0.0</td>\n",
              "      <td>0.0</td>\n",
              "      <td>0.0</td>\n",
              "      <td>0.0</td>\n",
              "      <td>0.0</td>\n",
              "      <td>0.0</td>\n",
              "      <td>0.0</td>\n",
              "      <td>4.0</td>\n",
              "    </tr>\n",
              "  </tbody>\n",
              "</table>\n",
              "<p>87554 rows × 188 columns</p>\n",
              "</div>"
            ],
            "text/plain": [
              "            0         1         2         3    ...  184  185  186  187\n",
              "0      0.977941  0.926471  0.681373  0.245098  ...  0.0  0.0  0.0  0.0\n",
              "1      0.960114  0.863248  0.461538  0.196581  ...  0.0  0.0  0.0  0.0\n",
              "2      1.000000  0.659459  0.186486  0.070270  ...  0.0  0.0  0.0  0.0\n",
              "3      0.925414  0.665746  0.541436  0.276243  ...  0.0  0.0  0.0  0.0\n",
              "4      0.967136  1.000000  0.830986  0.586854  ...  0.0  0.0  0.0  0.0\n",
              "...         ...       ...       ...       ...  ...  ...  ...  ...  ...\n",
              "87549  0.807018  0.494737  0.536842  0.529825  ...  0.0  0.0  0.0  4.0\n",
              "87550  0.718333  0.605000  0.486667  0.361667  ...  0.0  0.0  0.0  4.0\n",
              "87551  0.906122  0.624490  0.595918  0.575510  ...  0.0  0.0  0.0  4.0\n",
              "87552  0.858228  0.645570  0.845570  0.248101  ...  0.0  0.0  0.0  4.0\n",
              "87553  0.901506  0.845886  0.800695  0.748552  ...  0.0  0.0  0.0  4.0\n",
              "\n",
              "[87554 rows x 188 columns]"
            ]
          },
          "metadata": {
            "tags": []
          },
          "execution_count": 4
        }
      ]
    },
    {
      "cell_type": "markdown",
      "metadata": {
        "id": "J0ZG9w2QJ0fe"
      },
      "source": [
        "**EDA**"
      ]
    },
    {
      "cell_type": "code",
      "metadata": {
        "id": "2Ha03uqNJ4s5",
        "colab": {
          "base_uri": "https://localhost:8080/"
        },
        "outputId": "e8ae1791-2b74-4bf2-f331-0def9e0ef99d"
      },
      "source": [
        "train_data.isnull().sum()"
      ],
      "execution_count": 7,
      "outputs": [
        {
          "output_type": "execute_result",
          "data": {
            "text/plain": [
              "0      0\n",
              "1      0\n",
              "2      0\n",
              "3      0\n",
              "4      0\n",
              "      ..\n",
              "183    0\n",
              "184    0\n",
              "185    0\n",
              "186    0\n",
              "187    0\n",
              "Length: 188, dtype: int64"
            ]
          },
          "metadata": {
            "tags": []
          },
          "execution_count": 7
        }
      ]
    },
    {
      "cell_type": "code",
      "metadata": {
        "id": "-FAl7w3BKA8c",
        "colab": {
          "base_uri": "https://localhost:8080/"
        },
        "outputId": "61a14240-adb8-4521-9a3e-75e2aad18af1"
      },
      "source": [
        "train_data.iloc[:,187].unique()"
      ],
      "execution_count": 8,
      "outputs": [
        {
          "output_type": "execute_result",
          "data": {
            "text/plain": [
              "array([0., 1., 2., 3., 4.])"
            ]
          },
          "metadata": {
            "tags": []
          },
          "execution_count": 8
        }
      ]
    },
    {
      "cell_type": "code",
      "metadata": {
        "id": "uNpPVv5UKWv2"
      },
      "source": [
        "#output data in float form we have to convert to int for appropriate labelling\n",
        "#float denotes continuous data but it should be discrete"
      ],
      "execution_count": null,
      "outputs": []
    },
    {
      "cell_type": "code",
      "metadata": {
        "id": "iaFcETeCKfSZ"
      },
      "source": [
        "train_data[187] = train_data[187].astype('int')\n",
        "test_data[187] = test_data[187].astype('int')"
      ],
      "execution_count": 9,
      "outputs": []
    },
    {
      "cell_type": "code",
      "metadata": {
        "id": "AUfBZuWgK0dl",
        "colab": {
          "base_uri": "https://localhost:8080/",
          "height": 401
        },
        "outputId": "29d234b9-db2b-49fa-aa33-5bd9a45cf59f"
      },
      "source": [
        "#Display the counts of each class. Most of the data is biased belong to class normal\n",
        "sns.catplot(x = 187, kind = 'count', data = train_data)"
      ],
      "execution_count": 10,
      "outputs": [
        {
          "output_type": "execute_result",
          "data": {
            "text/plain": [
              "<seaborn.axisgrid.FacetGrid at 0x7fecf16f9b10>"
            ]
          },
          "metadata": {
            "tags": []
          },
          "execution_count": 10
        },
        {
          "output_type": "display_data",
          "data": {
            "image/png": "[encoded data removed]",
            "text/plain": [
              "<Figure size 360x360 with 1 Axes>"
            ]
          },
          "metadata": {
            "tags": [],
            "needs_background": "light"
          }
        }
      ]
    },
    {
      "cell_type": "code",
      "metadata": {
        "id": "JbejcwfYLZ07",
        "colab": {
          "base_uri": "https://localhost:8080/"
        },
        "outputId": "70a5b6ea-6842-442e-d424-a5279c2c1053"
      },
      "source": [
        "train_data[187].value_counts()"
      ],
      "execution_count": 11,
      "outputs": [
        {
          "output_type": "execute_result",
          "data": {
            "text/plain": [
              "0    72471\n",
              "4     6431\n",
              "2     5788\n",
              "1     2223\n",
              "3      641\n",
              "Name: 187, dtype: int64"
            ]
          },
          "metadata": {
            "tags": []
          },
          "execution_count": 11
        }
      ]
    },
    {
      "cell_type": "code",
      "metadata": {
        "id": "v_FEwEaHLT8y",
        "colab": {
          "base_uri": "https://localhost:8080/",
          "height": 466
        },
        "outputId": "37b9d5d8-971d-4871-a231-a3f655f436c3"
      },
      "source": [
        "plt.figure(figsize=(13,8))\n",
        "plt.pie(train_data[187].value_counts(),labels=['Normal Beats','Unknown Beats', 'Ventricular ectopic beats','Supraventricular ectopic beats','Fusion Beats' ])\n",
        "plt.show()"
      ],
      "execution_count": 12,
      "outputs": [
        {
          "output_type": "display_data",
          "data": {
            "image/png": "[encoded data removed]",
            "text/plain": [
              "<Figure size 936x576 with 1 Axes>"
            ]
          },
          "metadata": {
            "tags": []
          }
        }
      ]
    },
    {
      "cell_type": "markdown",
      "metadata": {
        "id": "l_EyJKDxNamB"
      },
      "source": [
        "**Printing like donut for pie**"
      ]
    },
    {
      "cell_type": "code",
      "metadata": {
        "id": "_SOqiudyNl7K",
        "colab": {
          "base_uri": "https://localhost:8080/",
          "height": 248
        },
        "outputId": "1b30af3c-1b13-4d40-f2a4-911afd11d0bf"
      },
      "source": [
        "my_circle = plt.Circle((0,0), 0.7, color = 'white') \n",
        "plt.pie(train_data[187].value_counts(), labels=['Normal Beats','Unknown Beats','Ventricular ectopic beats','Supraventricular ectopic beats',\n",
        "                                                'Fusion Beats'], autopct = '%0.0f%%', colors = ['red','orange','blue','magenta','cyan'])\n",
        "p = plt.gcf()\n",
        "p.gca().add_artist(my_circle)\n",
        "plt.show()\n"
      ],
      "execution_count": 13,
      "outputs": [
        {
          "output_type": "display_data",
          "data": {
            "image/png": "[encoded data removed]",
            "text/plain": [
              "<Figure size 432x288 with 1 Axes>"
            ]
          },
          "metadata": {
            "tags": []
          }
        }
      ]
    },
    {
      "cell_type": "code",
      "metadata": {
        "id": "GwTRz-psOdG2",
        "colab": {
          "base_uri": "https://localhost:8080/",
          "height": 483
        },
        "outputId": "393f425e-e563-48bf-e12d-4a2234711813"
      },
      "source": [
        "sns.set_style(style='whitegrid')\n",
        "plt.figure(figsize=(12,8))\n",
        "plt.plot(train_data.iloc[0, 0:187], color = 'red')\n",
        "plt.show()"
      ],
      "execution_count": 14,
      "outputs": [
        {
          "output_type": "display_data",
          "data": {
            "image/png": "[encoded data removed]",
            "text/plain": [
              "<Figure size 864x576 with 1 Axes>"
            ]
          },
          "metadata": {
            "tags": []
          }
        }
      ]
    },
    {
      "cell_type": "code",
      "metadata": {
        "id": "VA2pTomKPIde"
      },
      "source": [
        "#Splitting data into different classes\n",
        "df_1 = train_data[train_data[187] == 1]\n",
        "df_2 = train_data[train_data[187] == 2]\n",
        "df_3 = train_data[train_data[187] == 3]\n",
        "df_4 = train_data[train_data[187] == 4]"
      ],
      "execution_count": 15,
      "outputs": []
    },
    {
      "cell_type": "markdown",
      "metadata": {
        "id": "s83m6OT1PbYc"
      },
      "source": [
        "**Compare different heartbeats**"
      ]
    },
    {
      "cell_type": "code",
      "metadata": {
        "id": "zo34o2pOPilu",
        "colab": {
          "base_uri": "https://localhost:8080/",
          "height": 381
        },
        "outputId": "4000736f-0ce6-4c96-81aa-7204839db427"
      },
      "source": [
        "sns.set_style(\"whitegrid\")\n",
        "plt.figure(figsize=(20,8))\n",
        "plt.plot(train_data.iloc[0, 0:187], color = 'red', label = 'Normal Heart Beats')\n",
        "plt.plot(df_2.iloc[0, 0:187], color = 'blue', label = 'Ventricular ectopic beats')\n",
        "plt.title(\"ECG Normal vs Ventricular Ectopic Beats\", fontsize = 12)\n",
        "plt.xlabel(\"Time (in ms)\")\n",
        "plt.ylabel(\"Heart Beat Amplitude\")\n",
        "plt.legend()\n",
        "plt.show()"
      ],
      "execution_count": 16,
      "outputs": [
        {
          "output_type": "display_data",
          "data": {
            "image/png": "[encoded data removed]",
            "text/plain": [
              "<Figure size 1440x576 with 1 Axes>"
            ]
          },
          "metadata": {
            "tags": []
          }
        }
      ]
    },
    {
      "cell_type": "markdown",
      "metadata": {
        "id": "8Bz_buB-11sS"
      },
      "source": [
        "**Data Augmetation**"
      ]
    },
    {
      "cell_type": "code",
      "metadata": {
        "id": "69rOaTcS1h8L"
      },
      "source": [
        "from sklearn.utils import resample\n",
        "\n",
        "df_1_upsample = resample(df_1, n_samples = 20000, replace = True, random_state = 123)\n",
        "df_2_upsample = resample(df_2, n_samples = 20000, replace = True, random_state = 123)\n",
        "df_3_upsample = resample(df_3, n_samples = 20000, replace = True, random_state = 123)\n",
        "df_4_upsample = resample(df_4, n_samples = 20000, replace = True, random_state = 123)\n"
      ],
      "execution_count": 17,
      "outputs": []
    },
    {
      "cell_type": "code",
      "metadata": {
        "id": "pnG6K9CQ2f2i"
      },
      "source": [
        "# select random 20000 samples from class 0 samples \n",
        "df_0 = train_data[train_data[187] == 0].sample(n = 20000, random_state = 123)"
      ],
      "execution_count": 18,
      "outputs": []
    },
    {
      "cell_type": "code",
      "metadata": {
        "id": "-51bJcpK3Zbg"
      },
      "source": [
        "# merge all dataframes to create new train samples\n",
        "train_df = pd.concat([df_0, df_1_upsample, df_2_upsample, df_3_upsample, df_4_upsample])"
      ],
      "execution_count": 19,
      "outputs": []
    },
    {
      "cell_type": "code",
      "metadata": {
        "colab": {
          "base_uri": "https://localhost:8080/",
          "height": 575
        },
        "id": "tfFgj3nE3fe5",
        "outputId": "4f0c8e26-ab26-4433-f448-ff03e860f786"
      },
      "source": [
        "plt.figure(figsize= (10,10))\n",
        "my_circle = plt.Circle((0,0), 0.7, color = 'white') \n",
        "plt.pie(train_df[187].value_counts(), labels=['Normal Beats','Unknown Beats','Ventricular ectopic beats','Supraventricular ectopic beats',\n",
        "                                                'Fusion Beats'], autopct = '%0.0f%%', colors = ['red','orange','blue','magenta','cyan'])\n",
        "p = plt.gcf()\n",
        "p.gca().add_artist(my_circle)\n",
        "plt.show()\n"
      ],
      "execution_count": 20,
      "outputs": [
        {
          "output_type": "display_data",
          "data": {
            "image/png": "[encoded data removed]",
            "text/plain": [
              "<Figure size 720x720 with 1 Axes>"
            ]
          },
          "metadata": {
            "tags": []
          }
        }
      ]
    },
    {
      "cell_type": "code",
      "metadata": {
        "id": "sT-PYNg13joX"
      },
      "source": [
        "# target Y\n",
        "target_train = train_df[187]\n",
        "target_test = test_data[187]"
      ],
      "execution_count": 21,
      "outputs": []
    },
    {
      "cell_type": "code",
      "metadata": {
        "id": "YlCfkPhV3orL"
      },
      "source": [
        "# convert integer values into categorical one hot encoding \n",
        "# 1 - [0, 1, 0, 0, 0]\n",
        "# 4 - [0, 0, 0, 0, 1]\n",
        "from keras.utils.np_utils import to_categorical\n",
        "y_train = to_categorical(target_train)\n",
        "\n",
        "y_test = to_categorical(target_test)\n",
        "\n",
        "X_train = train_df.iloc[:, :-1].values\n",
        "X_test = test_data.iloc[:, :-1].values\n"
      ],
      "execution_count": 22,
      "outputs": []
    },
    {
      "cell_type": "code",
      "metadata": {
        "id": "gFob3q0M4IUx"
      },
      "source": [
        "#In order to work with CNN dimensionality is imp so reshaping necessary"
      ],
      "execution_count": null,
      "outputs": []
    },
    {
      "cell_type": "code",
      "metadata": {
        "id": "TcRlG8ko4SKx"
      },
      "source": [
        "# For Conv1D dimentionality must be 187x1 where 187 = number of features , 1 = 1D Dimentionality of Data\n",
        "X_train = X_train.reshape( len(X_train), X_train.shape[1], 1)\n",
        "X_test = X_test.reshape( len(X_test), X_test.shape[1], 1)\n"
      ],
      "execution_count": 23,
      "outputs": []
    },
    {
      "cell_type": "code",
      "metadata": {
        "id": "tcnoIAtB9Qh_"
      },
      "source": [
        "from keras.models import Sequential\n",
        "# For F.C. layer(Fully Connected)\n",
        "from keras.layers import Dense\n",
        "from keras.layers import Conv1D, MaxPooling1D, Flatten\n",
        "from keras.optimizers import Adam\n",
        "# Avoid overfitting by normalizing samples \n",
        "from keras.layers.normalization import BatchNormalization\n",
        "\n"
      ],
      "execution_count": 24,
      "outputs": []
    },
    {
      "cell_type": "code",
      "metadata": {
        "id": "m3_TjnOu-suW"
      },
      "source": [
        "def build_model():\n",
        "    model = Sequential()\n",
        "    # Filters = Units in Dense Total number of Neurons\n",
        "    # Padding = 'same' , zero-padding, Add zero pixels all around input data\n",
        "    model.add(Conv1D(filters = 64, kernel_size = 6, activation='relu', padding = 'same', input_shape = (187, 1)))\n",
        "    # Normalization to avoid overfitting\n",
        "    model.add(BatchNormalization())\n",
        "    # Pooling \n",
        "    model.add(MaxPooling1D(pool_size=(3), strides = (2), padding = 'same'))\n",
        "\n",
        "    model.add(Conv1D(filters = 64, kernel_size = 6, activation='relu', padding = 'same'))\n",
        "    model.add(BatchNormalization())\n",
        "    model.add(MaxPooling1D(pool_size=(3), strides = (2), padding = 'same'))\n",
        "\n",
        "    model.add(Conv1D( filters = 64, kernel_size = 6, activation='relu', padding = 'same'))\n",
        "    model.add(BatchNormalization())\n",
        "    model.add(MaxPooling1D(pool_size=(3), strides = (2), padding = 'same'))\n",
        "\n",
        "    # Flatten \n",
        "    model.add(Flatten())\n",
        "    # FC Layer\n",
        "    # input layer\n",
        "    model.add(Dense(units = 64, activation='relu'))\n",
        "    # Hidden Layer\n",
        "    model.add(Dense(units = 64, activation='relu'))\n",
        "    # Output Layer\n",
        "    model.add(Dense(units = 5, activation='softmax'))\n",
        "\n",
        "    # loss = 'categorical_crossentropy'\n",
        "    model.compile(optimizer = 'Adam', loss = 'categorical_crossentropy', metrics = ['accuracy'])\n",
        "    return model\n",
        "\n",
        "\n",
        "model = build_model()\n",
        "\n"
      ],
      "execution_count": 27,
      "outputs": []
    },
    {
      "cell_type": "code",
      "metadata": {
        "colab": {
          "base_uri": "https://localhost:8080/"
        },
        "id": "rrUoen4x_tFk",
        "outputId": "ca031657-be1b-4ac9-e6fe-21152a2c2713"
      },
      "source": [
        "model.summary()\n",
        "#Summary shows features are reduced from 187 to 24. 64 neurons with 24 featues. after flattening it will be 24*64-1536\n",
        "#This will be for 1 row and suh features are passed to dense layer. Param# is biases"
      ],
      "execution_count": 28,
      "outputs": [
        {
          "output_type": "stream",
          "text": [
            "Model: \"sequential\"\n",
            "_________________________________________________________________\n",
            "Layer (type)                 Output Shape              Param #   \n",
            "=================================================================\n",
            "conv1d (Conv1D)              (None, 187, 64)           448       \n",
            "_________________________________________________________________\n",
            "batch_normalization (BatchNo (None, 187, 64)           256       \n",
            "_________________________________________________________________\n",
            "max_pooling1d (MaxPooling1D) (None, 94, 64)            0         \n",
            "_________________________________________________________________\n",
            "conv1d_1 (Conv1D)            (None, 94, 64)            24640     \n",
            "_________________________________________________________________\n",
            "batch_normalization_1 (Batch (None, 94, 64)            256       \n",
            "_________________________________________________________________\n",
            "max_pooling1d_1 (MaxPooling1 (None, 47, 64)            0         \n",
            "_________________________________________________________________\n",
            "conv1d_2 (Conv1D)            (None, 47, 64)            24640     \n",
            "_________________________________________________________________\n",
            "batch_normalization_2 (Batch (None, 47, 64)            256       \n",
            "_________________________________________________________________\n",
            "max_pooling1d_2 (MaxPooling1 (None, 24, 64)            0         \n",
            "_________________________________________________________________\n",
            "flatten (Flatten)            (None, 1536)              0         \n",
            "_________________________________________________________________\n",
            "dense (Dense)                (None, 64)                98368     \n",
            "_________________________________________________________________\n",
            "dense_1 (Dense)              (None, 64)                4160      \n",
            "_________________________________________________________________\n",
            "dense_2 (Dense)              (None, 5)                 325       \n",
            "=================================================================\n",
            "Total params: 153,349\n",
            "Trainable params: 152,965\n",
            "Non-trainable params: 384\n",
            "_________________________________________________________________\n"
          ],
          "name": "stdout"
        }
      ]
    },
    {
      "cell_type": "code",
      "metadata": {
        "colab": {
          "base_uri": "https://localhost:8080/"
        },
        "id": "yRkrWyrwBByV",
        "outputId": "6baa7eb1-40be-4ff6-c264-05df788ee5a9"
      },
      "source": [
        "history = model.fit(X_train, y_train, epochs = 15, batch_size = 32, validation_data=(X_test, y_test))\n"
      ],
      "execution_count": 29,
      "outputs": [
        {
          "output_type": "stream",
          "text": [
            "Epoch 1/15\n",
            "3125/3125 [==============================] - 135s 43ms/step - loss: 0.3013 - accuracy: 0.8923 - val_loss: 0.1810 - val_accuracy: 0.9407\n",
            "Epoch 2/15\n",
            "3125/3125 [==============================] - 135s 43ms/step - loss: 0.0820 - accuracy: 0.9717 - val_loss: 0.2199 - val_accuracy: 0.9237\n",
            "Epoch 3/15\n",
            "3125/3125 [==============================] - 134s 43ms/step - loss: 0.0548 - accuracy: 0.9812 - val_loss: 0.1534 - val_accuracy: 0.9542\n",
            "Epoch 4/15\n",
            "3125/3125 [==============================] - 135s 43ms/step - loss: 0.0403 - accuracy: 0.9865 - val_loss: 0.1035 - val_accuracy: 0.9727\n",
            "Epoch 5/15\n",
            "3125/3125 [==============================] - 135s 43ms/step - loss: 0.0344 - accuracy: 0.9894 - val_loss: 0.1284 - val_accuracy: 0.9689\n",
            "Epoch 6/15\n",
            "3125/3125 [==============================] - 142s 46ms/step - loss: 0.0283 - accuracy: 0.9911 - val_loss: 0.1245 - val_accuracy: 0.9709\n",
            "Epoch 7/15\n",
            "3125/3125 [==============================] - 145s 46ms/step - loss: 0.0229 - accuracy: 0.9931 - val_loss: 0.1159 - val_accuracy: 0.9745\n",
            "Epoch 8/15\n",
            "3125/3125 [==============================] - 148s 47ms/step - loss: 0.0204 - accuracy: 0.9936 - val_loss: 0.1282 - val_accuracy: 0.9739\n",
            "Epoch 9/15\n",
            "3125/3125 [==============================] - 149s 48ms/step - loss: 0.0177 - accuracy: 0.9947 - val_loss: 0.1534 - val_accuracy: 0.9619\n",
            "Epoch 10/15\n",
            "3125/3125 [==============================] - 150s 48ms/step - loss: 0.0186 - accuracy: 0.9945 - val_loss: 0.1566 - val_accuracy: 0.9694\n",
            "Epoch 11/15\n",
            "3125/3125 [==============================] - 155s 50ms/step - loss: 0.0143 - accuracy: 0.9958 - val_loss: 0.2414 - val_accuracy: 0.9493\n",
            "Epoch 12/15\n",
            "3125/3125 [==============================] - 157s 50ms/step - loss: 0.0162 - accuracy: 0.9950 - val_loss: 0.1396 - val_accuracy: 0.9719\n",
            "Epoch 13/15\n",
            "3125/3125 [==============================] - 161s 52ms/step - loss: 0.0122 - accuracy: 0.9964 - val_loss: 0.1555 - val_accuracy: 0.9784\n",
            "Epoch 14/15\n",
            "3125/3125 [==============================] - 155s 50ms/step - loss: 0.0123 - accuracy: 0.9967 - val_loss: 0.1447 - val_accuracy: 0.9777\n",
            "Epoch 15/15\n",
            "3125/3125 [==============================] - 154s 49ms/step - loss: 0.0107 - accuracy: 0.9972 - val_loss: 0.1582 - val_accuracy: 0.9732\n"
          ],
          "name": "stdout"
        }
      ]
    },
    {
      "cell_type": "code",
      "metadata": {
        "colab": {
          "base_uri": "https://localhost:8080/"
        },
        "id": "rtGunpcwOodI",
        "outputId": "648be2ea-8c85-4597-a743-a7b64bc4f4e1"
      },
      "source": [
        "# evaluate ECG Test Data\n",
        "model.evaluate(X_test, y_test)\n"
      ],
      "execution_count": 30,
      "outputs": [
        {
          "output_type": "stream",
          "text": [
            "685/685 [==============================] - 8s 12ms/step - loss: 0.1582 - accuracy: 0.9732\n"
          ],
          "name": "stdout"
        },
        {
          "output_type": "execute_result",
          "data": {
            "text/plain": [
              "[0.15820860862731934, 0.9731865525245667]"
            ]
          },
          "metadata": {
            "tags": []
          },
          "execution_count": 30
        }
      ]
    },
    {
      "cell_type": "code",
      "metadata": {
        "colab": {
          "base_uri": "https://localhost:8080/",
          "height": 535
        },
        "id": "E6RS1LdLO476",
        "outputId": "72486af0-e318-445c-fa9a-cbb8b2be11d1"
      },
      "source": [
        "pd.DataFrame(history.history)\n",
        "\n",
        "pd.DataFrame(history.history)[['accuracy', 'val_accuracy']].plot()\n",
        "pd.DataFrame(history.history)[['loss', 'val_loss']].plot()"
      ],
      "execution_count": 31,
      "outputs": [
        {
          "output_type": "execute_result",
          "data": {
            "text/plain": [
              "<matplotlib.axes._subplots.AxesSubplot at 0x7fec97c173d0>"
            ]
          },
          "metadata": {
            "tags": []
          },
          "execution_count": 31
        },
        {
          "output_type": "display_data",
          "data": {
            "image/png": "[encoded data removed]",
            "text/plain": [
              "<Figure size 432x288 with 1 Axes>"
            ]
          },
          "metadata": {
            "tags": []
          }
        },
        {
          "output_type": "display_data",
          "data": {
            "image/png": "[encoded data removed]",
            "text/plain": [
              "<Figure size 432x288 with 1 Axes>"
            ]
          },
          "metadata": {
            "tags": []
          }
        }
      ]
    },
    {
      "cell_type": "code",
      "metadata": {
        "id": "bPggYhf6PJHP"
      },
      "source": [
        "# Make Prediction\n",
        "predict = model.predict(X_test)"
      ],
      "execution_count": 32,
      "outputs": []
    },
    {
      "cell_type": "code",
      "metadata": {
        "colab": {
          "base_uri": "https://localhost:8080/"
        },
        "id": "MISh2ewwPUww",
        "outputId": "9ad0603c-612c-4e27-d983-993907d3eb4f"
      },
      "source": [
        "# Predicted o/p will be in probability distribution \n",
        "predict"
      ],
      "execution_count": 33,
      "outputs": [
        {
          "output_type": "execute_result",
          "data": {
            "text/plain": [
              "array([[1.0000000e+00, 1.8409859e-09, 2.2855669e-12, 1.9251124e-21,\n",
              "        1.3875677e-16],\n",
              "       [9.9984741e-01, 3.0849421e-07, 1.5226554e-04, 1.5992917e-11,\n",
              "        4.2032058e-09],\n",
              "       [1.0000000e+00, 1.6056789e-12, 3.7732362e-10, 3.5983988e-19,\n",
              "        5.1137938e-10],\n",
              "       ...,\n",
              "       [5.2300236e-10, 2.7700702e-20, 1.2762366e-15, 4.2502977e-19,\n",
              "        1.0000000e+00],\n",
              "       [3.0498304e-22, 0.0000000e+00, 5.2942177e-29, 0.0000000e+00,\n",
              "        1.0000000e+00],\n",
              "       [1.6000289e-20, 2.7241101e-34, 1.3944434e-25, 0.0000000e+00,\n",
              "        1.0000000e+00]], dtype=float32)"
            ]
          },
          "metadata": {
            "tags": []
          },
          "execution_count": 33
        }
      ]
    },
    {
      "cell_type": "code",
      "metadata": {
        "colab": {
          "base_uri": "https://localhost:8080/"
        },
        "id": "oKYJd2dTPZ5n",
        "outputId": "98c3e964-d6cd-4cb8-e4d6-4b7310bbe053"
      },
      "source": [
        "# distributional probability to integers\n",
        "yhat = np.argmax(predict, axis = 1)\n",
        "yhat"
      ],
      "execution_count": 37,
      "outputs": [
        {
          "output_type": "execute_result",
          "data": {
            "text/plain": [
              "array([0, 0, 0, ..., 4, 4, 4])"
            ]
          },
          "metadata": {
            "tags": []
          },
          "execution_count": 37
        }
      ]
    },
    {
      "cell_type": "code",
      "metadata": {
        "colab": {
          "base_uri": "https://localhost:8080/",
          "height": 391
        },
        "id": "fjE9eRuMPeuQ",
        "outputId": "bf6c5351-f261-405f-c5a9-0df4b7b2a5ea"
      },
      "source": [
        "#argmax used to convert int\n",
        "from sklearn.metrics import classification_report, confusion_matrix\n",
        "confusion_matrix(np.argmax(y_test, axis = 1), yhat)\n",
        "\n",
        "plt.figure(figsize=(8,6))\n",
        "sns.heatmap(confusion_matrix(np.argmax(y_test, axis = 1), yhat), annot = True, fmt = '0.0f', cmap ='RdPu')\n",
        "\n"
      ],
      "execution_count": 35,
      "outputs": [
        {
          "output_type": "execute_result",
          "data": {
            "text/plain": [
              "<matplotlib.axes._subplots.AxesSubplot at 0x7fec97b9b150>"
            ]
          },
          "metadata": {
            "tags": []
          },
          "execution_count": 35
        },
        {
          "output_type": "display_data",
          "data": {
            "image/png": "[encoded data removed]",
            "text/plain": [
              "<Figure size 576x432 with 2 Axes>"
            ]
          },
          "metadata": {
            "tags": []
          }
        }
      ]
    },
    {
      "cell_type": "code",
      "metadata": {
        "colab": {
          "base_uri": "https://localhost:8080/"
        },
        "id": "xI1LzMeLQrBu",
        "outputId": "52fd03e1-5261-440d-faf1-ddff6793b4ce"
      },
      "source": [
        "print(classification_report(np.argmax(y_test, axis = 1), yhat))"
      ],
      "execution_count": 39,
      "outputs": [
        {
          "output_type": "stream",
          "text": [
            "              precision    recall  f1-score   support\n",
            "\n",
            "           0       1.00      0.98      0.99     18118\n",
            "           1       0.67      0.88      0.76       556\n",
            "           2       0.93      0.96      0.95      1448\n",
            "           3       0.60      0.87      0.71       162\n",
            "           4       0.97      0.99      0.98      1608\n",
            "\n",
            "    accuracy                           0.97     21892\n",
            "   macro avg       0.83      0.94      0.88     21892\n",
            "weighted avg       0.98      0.97      0.97     21892\n",
            "\n"
          ],
          "name": "stdout"
        }
      ]
    }
  ]
}